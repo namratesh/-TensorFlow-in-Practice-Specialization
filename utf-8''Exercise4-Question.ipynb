{
 "cells": [
  {
   "cell_type": "markdown",
   "metadata": {
    "colab_type": "text",
    "id": "UncprnB0ymAE"
   },
   "source": [
    "Below is code with a link to a happy or sad dataset which contains 80 images, 40 happy and 40 sad. \n",
    "Create a convolutional neural network that trains to 100% accuracy on these images,  which cancels training upon hitting training accuracy of >.999\n",
    "\n",
    "Hint -- it will work best with 3 convolutional layers."
   ]
  },
  {
   "cell_type": "code",
   "execution_count": 1,
   "metadata": {},
   "outputs": [],
   "source": [
    "import tensorflow as tf\n",
    "import os\n",
    "import zipfile\n",
    "from os import path, getcwd, chdir\n",
    "\n",
    "# DO NOT CHANGE THE LINE BELOW. If you are developing in a local\n",
    "# environment, then grab happy-or-sad.zip from the Coursera Jupyter Notebook\n",
    "# and place it inside a local folder and edit the path to that location\n",
    "path = f\"{getcwd()}/../tmp2/happy-or-sad.zip\"\n",
    "\n",
    "zip_ref = zipfile.ZipFile(path, 'r')\n",
    "zip_ref.extractall(\"/tmp/h-or-s\")\n",
    "zip_ref.close()"
   ]
  },
  {
   "cell_type": "code",
   "execution_count": 41,
   "metadata": {},
   "outputs": [],
   "source": [
    "# GRADED FUNCTION: train_happy_sad_model\n",
    "def train_happy_sad_model():\n",
    "    # Please write your code only where you are indicated.\n",
    "    # please do not remove # model fitting inline comments.\n",
    "\n",
    "    DESIRED_ACCURACY = 0.999\n",
    "\n",
    "    class myCallback(tf.keras.callbacks.Callback):\n",
    "        def on_epoch_end(self, epoch, logs = {}):\n",
    "            if(logs.get('acc')>DESIRED_ACCURACY):\n",
    "                print(\"\\nReached 99.9% accuracy so cancelling training!\")\n",
    "                self.model.stop_training =True\n",
    "         # Your Code\n",
    "        \n",
    "\n",
    "    callbacks = myCallback()\n",
    "    \n",
    "    # This Code Block should Define and Compile the Model. Please assume the images are 150 X 150 in your implementation.\n",
    "    model = tf.keras.models.Sequential([\n",
    "        # Your Code Here\n",
    "        tf.keras.layers.Conv2D(32, (3,3), activation = 'relu', input_shape = (150,150,3), padding = 'same'),\n",
    "        tf.keras.layers.MaxPooling2D(2,2),\n",
    "        tf.keras.layers.Conv2D(64,(3,3), activation = 'relu', padding = 'same'),\n",
    "        tf.keras.layers.MaxPooling2D(2,2),\n",
    "        tf.keras.layers.Conv2D(128, (3,3),activation = 'relu', padding = 'same'),\n",
    "        tf.keras.layers.MaxPooling2D(3,3),\n",
    "        tf.keras.layers.Flatten(),\n",
    "        tf.keras.layers.Dense(1024, activation = 'relu'),\n",
    "        tf.keras.layers.Dense(1, activation = 'sigmoid')\n",
    "    ])\n",
    "\n",
    "    from tensorflow.keras.optimizers import RMSprop\n",
    "\n",
    "    model.compile(loss = 'binary_crossentropy', optimizer = RMSprop(lr = 0.0001),\n",
    "                 metrics=['acc'])\n",
    "        \n",
    "\n",
    "    # This code block should create an instance of an ImageDataGenerator called train_datagen \n",
    "    # And a train_generator by calling train_datagen.flow_from_directory\n",
    "\n",
    "    from tensorflow.keras.preprocessing.image import ImageDataGenerator\n",
    "\n",
    "    train_datagen = ImageDataGenerator(rescale = 1./255)\n",
    "\n",
    "    # Please use a target_size of 150 X 150.\n",
    "    train_generator = train_datagen.flow_from_directory(\n",
    "                                        '/tmp/h-or-s' , target_size = (150,150),\n",
    "                                     batch_size = 32, class_mode = 'binary')\n",
    "        # Your Code Here)\n",
    "    # Expected output: 'Found 80 images belonging to 2 classes'\n",
    "\n",
    "    # This code block should call model.fit_generator and train for\n",
    "    # a number of epochs.\n",
    "    # model fitting\n",
    "    history = model.fit_generator(train_generator,\n",
    "                                 \n",
    "                                  epochs = 50, callbacks = [callbacks]\n",
    "                                 )\n",
    "          # Your Code Here)\n",
    "    # model fitting\n",
    "    return history.history['acc'][-1]"
   ]
  },
  {
   "cell_type": "code",
   "execution_count": 42,
   "metadata": {},
   "outputs": [
    {
     "name": "stdout",
     "output_type": "stream",
     "text": [
      "Found 80 images belonging to 2 classes.\n",
      "Epoch 1/50\n",
      "3/3 [==============================] - 4s 1s/step - loss: 1.3761 - acc: 0.5000\n",
      "Epoch 2/50\n",
      "3/3 [==============================] - 0s 132ms/step - loss: 0.7191 - acc: 0.4000\n",
      "Epoch 3/50\n",
      "3/3 [==============================] - 0s 113ms/step - loss: 0.6105 - acc: 0.7250\n",
      "Epoch 4/50\n",
      "3/3 [==============================] - 0s 108ms/step - loss: 0.5627 - acc: 0.8375\n",
      "Epoch 5/50\n",
      "3/3 [==============================] - 0s 136ms/step - loss: 0.5031 - acc: 0.6750\n",
      "Epoch 6/50\n",
      "3/3 [==============================] - 0s 135ms/step - loss: 0.4781 - acc: 0.7250\n",
      "Epoch 7/50\n",
      "3/3 [==============================] - 0s 133ms/step - loss: 0.3947 - acc: 0.9250\n",
      "Epoch 8/50\n",
      "3/3 [==============================] - 0s 112ms/step - loss: 0.3875 - acc: 0.8500\n",
      "Epoch 9/50\n",
      "3/3 [==============================] - 0s 131ms/step - loss: 0.3039 - acc: 0.9375\n",
      "Epoch 10/50\n",
      "3/3 [==============================] - 0s 131ms/step - loss: 0.2930 - acc: 0.9125\n",
      "Epoch 11/50\n",
      "3/3 [==============================] - 0s 109ms/step - loss: 0.2999 - acc: 0.9000\n",
      "Epoch 12/50\n",
      "3/3 [==============================] - 0s 107ms/step - loss: 0.3211 - acc: 0.8875\n",
      "Epoch 13/50\n",
      "3/3 [==============================] - 0s 132ms/step - loss: 0.2615 - acc: 0.9250\n",
      "Epoch 14/50\n",
      "3/3 [==============================] - 0s 131ms/step - loss: 0.2173 - acc: 0.9375\n",
      "Epoch 15/50\n",
      "3/3 [==============================] - 0s 129ms/step - loss: 0.1872 - acc: 0.9375\n",
      "Epoch 16/50\n",
      "3/3 [==============================] - 0s 133ms/step - loss: 0.1796 - acc: 0.9625\n",
      "Epoch 17/50\n",
      "3/3 [==============================] - 0s 132ms/step - loss: 0.2110 - acc: 0.9375\n",
      "Epoch 18/50\n",
      "3/3 [==============================] - 0s 107ms/step - loss: 0.1811 - acc: 0.9750\n",
      "Epoch 19/50\n",
      "3/3 [==============================] - 0s 130ms/step - loss: 0.1320 - acc: 0.9500\n",
      "Epoch 20/50\n",
      "3/3 [==============================] - 0s 133ms/step - loss: 0.1459 - acc: 0.9500\n",
      "Epoch 21/50\n",
      "3/3 [==============================] - 0s 134ms/step - loss: 0.1956 - acc: 0.9500\n",
      "Epoch 22/50\n",
      "3/3 [==============================] - 0s 133ms/step - loss: 0.1583 - acc: 0.9750\n",
      "Epoch 23/50\n",
      "3/3 [==============================] - 0s 129ms/step - loss: 0.1059 - acc: 0.9500\n",
      "Epoch 24/50\n",
      "2/3 [===================>..........] - ETA: 0s - loss: 0.1141 - acc: 1.0000\n",
      "Reached 99.9% accuracy so cancelling training!\n",
      "3/3 [==============================] - 0s 133ms/step - loss: 0.0916 - acc: 1.0000\n"
     ]
    },
    {
     "data": {
      "text/plain": [
       "1.0"
      ]
     },
     "execution_count": 42,
     "metadata": {},
     "output_type": "execute_result"
    }
   ],
   "source": [
    "# The Expected output: \"Reached 99.9% accuracy so cancelling training!\"\"\n",
    "train_happy_sad_model()"
   ]
  },
  {
   "cell_type": "code",
   "execution_count": 43,
   "metadata": {},
   "outputs": [],
   "source": [
    "# Now click the 'Submit Assignment' button above.\n",
    "# Once that is complete, please run the following two cells to save your work and close the notebook"
   ]
  },
  {
   "cell_type": "code",
   "execution_count": null,
   "metadata": {},
   "outputs": [],
   "source": []
  },
  {
   "cell_type": "code",
   "execution_count": null,
   "metadata": {},
   "outputs": [],
   "source": []
  },
  {
   "cell_type": "code",
   "execution_count": null,
   "metadata": {},
   "outputs": [],
   "source": []
  },
  {
   "cell_type": "code",
   "execution_count": null,
   "metadata": {},
   "outputs": [],
   "source": []
  },
  {
   "cell_type": "code",
   "execution_count": null,
   "metadata": {},
   "outputs": [],
   "source": []
  }
 ],
 "metadata": {
  "coursera": {
   "course_slug": "introduction-tensorflow",
   "graded_item_id": "1kAlw",
   "launcher_item_id": "PNLYD"
  },
  "kernelspec": {
   "display_name": "Python 3",
   "language": "python",
   "name": "python3"
  },
  "language_info": {
   "codemirror_mode": {
    "name": "ipython",
    "version": 3
   },
   "file_extension": ".py",
   "mimetype": "text/x-python",
   "name": "python",
   "nbconvert_exporter": "python",
   "pygments_lexer": "ipython3",
   "version": "3.6.8"
  }
 },
 "nbformat": 4,
 "nbformat_minor": 1
}
